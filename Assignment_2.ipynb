{
  "nbformat": 4,
  "nbformat_minor": 0,
  "metadata": {
    "colab": {
      "provenance": []
    },
    "kernelspec": {
      "name": "python3",
      "display_name": "Python 3"
    },
    "language_info": {
      "name": "python"
    }
  },
  "cells": [
    {
      "cell_type": "code",
      "execution_count": 1,
      "metadata": {
        "colab": {
          "base_uri": "https://localhost:8080/"
        },
        "id": "rOYz9m5d2UBq",
        "outputId": "f22ea5de-d26a-4469-ff04-a1bab6748c3b"
      },
      "outputs": [
        {
          "output_type": "stream",
          "name": "stdout",
          "text": [
            "Capitalize function: Hello world\n",
            "Replicated .upper() function: HELLO WORLD\n",
            "Replicated .lower() function: hello world\n"
          ]
        }
      ],
      "source": [
        "string = \"hello world\"\n",
        "capitalize_function = string.capitalize()\n",
        "upper_function = string.upper()\n",
        "lower_function = string.lower()\n",
        "print(\"Capitalize function:\", capitalize_function)\n",
        "print(\"Replicated .upper() function:\", upper_function)\n",
        "print(\"Replicated .lower() function:\", lower_function)"
      ]
    },
    {
      "cell_type": "code",
      "source": [
        "given_sequence = [1,2,34,65,1,2,65,66,44,33,22,87,123412,9,78,76]\n",
        "odd_sequence = [num for num in given_sequence if num % 2 != 0]\n",
        "print(\"Odd sequence:\", odd_sequence)"
      ],
      "metadata": {
        "colab": {
          "base_uri": "https://localhost:8080/"
        },
        "id": "bXu3S0-K2p6X",
        "outputId": "467787a4-4b5e-4e57-81ee-240b544e9be6"
      },
      "execution_count": 2,
      "outputs": [
        {
          "output_type": "stream",
          "name": "stdout",
          "text": [
            "Odd sequence: [1, 65, 1, 65, 33, 87, 9]\n"
          ]
        }
      ]
    },
    {
      "cell_type": "code",
      "source": [
        "fruits = {'apple': 10, 'mango': 20, 'pineapple': 25, 'orange': 30, 'strawberry': 50, 'jackfruit': 10}\n",
        "\n",
        "fruits_more_than_20 = {key: value for key, value in fruits.items() if value > 20}\n",
        "print(\"Fruits with values more than 20:\", fruits_more_than_20)"
      ],
      "metadata": {
        "colab": {
          "base_uri": "https://localhost:8080/"
        },
        "id": "VxL7fomL2veO",
        "outputId": "e00da350-9a6d-48d5-f6fe-5211434012b5"
      },
      "execution_count": 3,
      "outputs": [
        {
          "output_type": "stream",
          "name": "stdout",
          "text": [
            "Fruits with values more than 20: {'pineapple': 25, 'orange': 30, 'strawberry': 50}\n"
          ]
        }
      ]
    }
  ]
}